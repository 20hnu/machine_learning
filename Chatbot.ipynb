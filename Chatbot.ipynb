{
  "nbformat": 4,
  "nbformat_minor": 0,
  "metadata": {
    "colab": {
      "provenance": [],
      "authorship_tag": "ABX9TyOKbyHvbeBi1dj/oXx2bZ+W",
      "include_colab_link": true
    },
    "kernelspec": {
      "name": "python3",
      "display_name": "Python 3"
    },
    "language_info": {
      "name": "python"
    }
  },
  "cells": [
    {
      "cell_type": "markdown",
      "metadata": {
        "id": "view-in-github",
        "colab_type": "text"
      },
      "source": [
        "<a href=\"https://colab.research.google.com/github/20hnu/machine_learning/blob/main/Chatbot.ipynb\" target=\"_parent\"><img src=\"https://colab.research.google.com/assets/colab-badge.svg\" alt=\"Open In Colab\"/></a>"
      ]
    },
    {
      "cell_type": "code",
      "execution_count": 1,
      "metadata": {
        "id": "bvhiuhT_tswg"
      },
      "outputs": [],
      "source": [
        "import re\n",
        "import random\n"
      ]
    },
    {
      "cell_type": "markdown",
      "source": [
        "##Simple Rule Based ChatBot"
      ],
      "metadata": {
        "id": "q9Aeb9qP_E0H"
      }
    },
    {
      "cell_type": "code",
      "source": [
        "\n",
        "class RuleBot:\n",
        "  negative_response = ('no','nah','nope','naw','not a chance','sorry')\n",
        "  exit_commands = (\"quit\", \"pause\",\"exit\",\"goodbye\",\"bye\",\"later\")\n",
        "  random_questions = (\n",
        "      \"Why are you here?\",\n",
        "      \"Are there many humans like you?\",\n",
        "      \"What do you consume for sustenance?\",\n",
        "      \"Is there intelligent life on this planet?\",\n",
        "      \"Does Earth have a leader?\",\n",
        "      \"What planets have you visited?\",\n",
        "      \"What technology do you have on this planet?\"\n",
        "  )\n",
        "\n",
        "  def __init__(self):\n",
        "    self.alienbubble = {'describe_planet_intent': r'.*\\s*your planet.*',\n",
        "                        'answer_why_intent': r'why\\sare.*',\n",
        "                        'about_intellipat': r'.*\\s*intellipaat'\n",
        "                        }\n",
        "  def greet(self):\n",
        "    self.name = input(\"What is your name?\\n\")\n",
        "    will_help = input(\n",
        "        f\"Hi {self.name}, I am Rule-Bot. Will you help me learn about your planet?\\n\")\n",
        "    if will_help in self.negative_response:\n",
        "      print(\"Ok, have a nice Earth day!\")\n",
        "      return\n",
        "    self.chat()\n",
        "\n",
        "  def make_exit(self, reply):\n",
        "    for command in self.exit_commands:\n",
        "      if reply == command:\n",
        "        print(\"Okay, have a nice Earth day!\")\n",
        "        return True\n",
        "\n",
        "  def chat(self):\n",
        "    reply = input(random.choice(self.random_questions)).lower()\n",
        "    while not self.make_exit(reply):\n",
        "      reply = input(self.match_reply(reply))\n",
        "\n",
        "  def match_reply(self, reply):\n",
        "    for key, value in self.alienbubble.items():\n",
        "      intent = key\n",
        "      regex_pattern = value\n",
        "      found_match = re.match(regex_pattern, reply)\n",
        "      if found_match and intent == \"describe_planet_intent\":\n",
        "        return self.describe_planet_intent()\n",
        "      elif found_match and intent == \"answer_why_intent\":\n",
        "        return self.answer_why_intent()\n",
        "      elif found_match and intent == \"about_intellipat\":\n",
        "        return self.about_intellipat()\n",
        "    if not found_match:\n",
        "      return self.no_match_intent()\n",
        "\n",
        "  def describe_planet_intent(self):\n",
        "    responses = (\"My planet is a utopia of diverse organisms and species. \\n\",\n",
        "                 \"I am from Opidipus, the capital of the Wayward Galaxies. \\n\")\n",
        "    return random.choice(responses)\n",
        "\n",
        "  def answer_why_intent(self):\n",
        "    responses = (\"I come in peace\\n\", \"I am here to collect data on your planet and its inhabitants\\n\",\n",
        "                 \"I heard the coffee is good\\n\")\n",
        "    return random.choice(responses)\n",
        "\n",
        "  def about_intellipat(self):\n",
        "    responses = (\"Intellipaat is world's largest professional educationsl company\\n\",\"Intellipaat will make you learn concepts in the way never to be forgotten\\n\",\n",
        "                 \"Intellipaat is where your career and skill grows\\n\")\n",
        "    return random.choice(responses)\n",
        "\n",
        "  def no_match_intent(self):\n",
        "    responses = (\"Please tell me more.\\n\", \"Tell me more!\\n\", \"why do you say that?\\n\",\"I see. Can you elaborate?\\n\",\n",
        "                 \"Interesting. Can you tell me more?\\n\",\"I see. How do you think?\\n\",\"why?\\n\",\"How do you think i feel when you say that?\\n\")\n",
        "    return random.choice(responses)\n",
        "\n",
        "\n",
        "AlienBot = RuleBot()\n",
        "AlienBot.greet()"
      ],
      "metadata": {
        "colab": {
          "base_uri": "https://localhost:8080/"
        },
        "id": "s_GpwY60t7VW",
        "outputId": "3a3b2285-c329-4558-b8b5-72d5c8b91ca2"
      },
      "execution_count": 2,
      "outputs": [
        {
          "output_type": "stream",
          "name": "stdout",
          "text": [
            "What is your name?\n",
            "bye\n",
            "Hi bye, I am Rule-Bot. Will you help me learn about your planet?\n",
            "bye\n",
            "Why are you here?bye\n",
            "Okay, have a nice Earth day!\n"
          ]
        }
      ]
    },
    {
      "cell_type": "markdown",
      "source": [
        "##NLP based ChatBot"
      ],
      "metadata": {
        "id": "yieeNR3h_HvH"
      }
    },
    {
      "cell_type": "code",
      "source": [
        "import numpy as np\n",
        "import nltk\n",
        "import string\n",
        "import random"
      ],
      "metadata": {
        "id": "gxjdpiv56G-0"
      },
      "execution_count": 3,
      "outputs": []
    },
    {
      "cell_type": "code",
      "source": [
        "f = open(\"/content/report.txt\",'r', errors=\"ignore\")\n",
        "raw_doc = f.read()"
      ],
      "metadata": {
        "id": "xFf_VzRuE6ZB"
      },
      "execution_count": 4,
      "outputs": []
    },
    {
      "cell_type": "code",
      "source": [
        "raw_doc = raw_doc.lower()\n",
        "nltk.download('punkt') # Using the Punkt toeknizer\n",
        "nltk.download('wordnet') #Using the wordnet dictionary\n",
        "nltk.download('omw-1.4')\n",
        "\n",
        "sentence_tokens = nltk.sent_tokenize(raw_doc)\n",
        "word_tokens = nltk.word_tokenize(raw_doc)"
      ],
      "metadata": {
        "colab": {
          "base_uri": "https://localhost:8080/"
        },
        "id": "GpZrJ6_uF1k_",
        "outputId": "035159b3-3b62-4635-c84f-32be9d9cffa6"
      },
      "execution_count": 5,
      "outputs": [
        {
          "output_type": "stream",
          "name": "stderr",
          "text": [
            "[nltk_data] Downloading package punkt to /root/nltk_data...\n",
            "[nltk_data]   Unzipping tokenizers/punkt.zip.\n",
            "[nltk_data] Downloading package wordnet to /root/nltk_data...\n",
            "[nltk_data] Downloading package omw-1.4 to /root/nltk_data...\n"
          ]
        }
      ]
    },
    {
      "cell_type": "code",
      "source": [
        "len(sentence_tokens)"
      ],
      "metadata": {
        "colab": {
          "base_uri": "https://localhost:8080/"
        },
        "id": "KNz4b_joGasI",
        "outputId": "edf35d2c-7405-43ff-c5bd-081fa238ee3e"
      },
      "execution_count": 6,
      "outputs": [
        {
          "output_type": "execute_result",
          "data": {
            "text/plain": [
              "466"
            ]
          },
          "metadata": {},
          "execution_count": 6
        }
      ]
    },
    {
      "cell_type": "code",
      "source": [
        "len(word_tokens)"
      ],
      "metadata": {
        "colab": {
          "base_uri": "https://localhost:8080/"
        },
        "id": "899-_jIiHpXo",
        "outputId": "80f6800e-9591-4617-c4fd-08c910be4b43"
      },
      "execution_count": 7,
      "outputs": [
        {
          "output_type": "execute_result",
          "data": {
            "text/plain": [
              "8375"
            ]
          },
          "metadata": {},
          "execution_count": 7
        }
      ]
    },
    {
      "cell_type": "code",
      "source": [
        "lemmer = nltk.stem.WordNetLemmatizer()\n",
        "def LemTokens(tokens):\n",
        "  return [lemmer.lemmatize(token) for token in tokens]\n",
        "\n",
        "remove_punc_dict = dict((ord(punct), None) for punct in string.punctuation)\n",
        "\n",
        "def LemNormalize(text):\n",
        "  return LemTokens(nltk.word_tokenize(text.lower().translate(remove_punc_dict)))"
      ],
      "metadata": {
        "id": "xpTuoDwQHwdW"
      },
      "execution_count": 8,
      "outputs": []
    },
    {
      "cell_type": "code",
      "source": [
        "greet_inputs = ('hello','hi','whassup','how are you?')\n",
        "greet_responses = ('hi','hey', 'Hey There!','There there!!')\n",
        "def greet(sentence):\n",
        "  for word in sentence.split():\n",
        "    if word.lower() in greet_inputs:\n",
        "      return random.choice(greet_responses)"
      ],
      "metadata": {
        "id": "pQLFN7pAvHvn"
      },
      "execution_count": 9,
      "outputs": []
    },
    {
      "cell_type": "code",
      "source": [
        "from sklearn.feature_extraction.text import TfidfVectorizer\n",
        "from sklearn.metrics.pairwise import cosine_similarity\n",
        "\n",
        "\n",
        "def response(user_response):\n",
        "  robo1_response = ''\n",
        "  TfidfVec = TfidfVectorizer(tokenizer = LemNormalize, stop_words = \"english\")\n",
        "  tfidf = TfidfVec.fit_transform(sentence_tokens)\n",
        "  vals = cosine_similarity(tfidf[-1], tfidf)\n",
        "  idx = vals.argsort()[0][-2]\n",
        "  flat = vals.flatten()\n",
        "  flat.sort()\n",
        "  req_tfidf = flat[-2]\n",
        "  if(req_tfidf == 0):\n",
        "    robo1_response = robo1_response + \"I am sorry. Unable to understand you!\"\n",
        "    return robo1_response\n",
        "  else:\n",
        "    robo1_response = robo1_response + sentence_tokens[idx]\n",
        "    return robo1_response\n"
      ],
      "metadata": {
        "id": "C-YDsft2vleC"
      },
      "execution_count": 10,
      "outputs": []
    },
    {
      "cell_type": "code",
      "source": [
        "flag = True\n",
        "print(\"Hello! I am the Retrieval Learning Bot. Start typing your text after greeting to talk to me. For ending convo type bye!\")\n",
        "while(flag==True):\n",
        "  user_response = input()\n",
        "  user_response = user_response.lower()\n",
        "  if (user_response != 'bye'):\n",
        "    if (user_response == \"thank you\" or user_response == 'thanks'):\n",
        "      flag = False\n",
        "      print('Bot: You are Welcome..')\n",
        "    else:\n",
        "      if(greet(user_response) != None):\n",
        "        print('Bot '+ greet(user_response))\n",
        "      else:\n",
        "        sentence_tokens.append(user_response)\n",
        "        word_tokens = word_tokens + nltk.word_tokenize(user_response)\n",
        "        final_words = list(set(word_tokens))\n",
        "        print('Bot ', end = '')\n",
        "        print(response(user_response))\n",
        "        sentence_tokens.remove(user_response)\n",
        "  else:\n",
        "    flag = False\n",
        "    print(\"Bot: Goodbye!\")"
      ],
      "metadata": {
        "colab": {
          "base_uri": "https://localhost:8080/"
        },
        "id": "2enQ8y5w4Hwa",
        "outputId": "610166ee-2d31-4e5f-a15c-8c59bab8a96a"
      },
      "execution_count": 11,
      "outputs": [
        {
          "output_type": "stream",
          "name": "stdout",
          "text": [
            "Hello! I am the Retrieval Learning Bot. Start typing your text after greeting to talk to me. For ending convo type bye!\n",
            "Hi\n",
            "Bot hey\n",
            "what is chatbot\n",
            "Bot "
          ]
        },
        {
          "output_type": "stream",
          "name": "stderr",
          "text": [
            "/usr/local/lib/python3.10/dist-packages/sklearn/feature_extraction/text.py:528: UserWarning: The parameter 'token_pattern' will not be used since 'tokenizer' is not None'\n",
            "  warnings.warn(\n",
            "/usr/local/lib/python3.10/dist-packages/sklearn/feature_extraction/text.py:409: UserWarning: Your stop_words may be inconsistent with your preprocessing. Tokenizing the stop words generated tokens ['ha', 'le', 'u', 'wa'] not in stop_words.\n",
            "  warnings.warn(\n"
          ]
        },
        {
          "output_type": "stream",
          "name": "stdout",
          "text": [
            "\"dbpedia chatbot\".\n",
            "can you tell me about turing test\n",
            "Bot chatbot competitions focus on the turing test or more specific goals.\n",
            "Universe\n",
            "Bot I am sorry. Unable to understand you!\n",
            "bye\n",
            "Bot: Goodbye!\n"
          ]
        }
      ]
    },
    {
      "cell_type": "code",
      "source": [],
      "metadata": {
        "id": "kru64RoMAfXE"
      },
      "execution_count": null,
      "outputs": []
    }
  ]
}